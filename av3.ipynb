{
 "cells": [
  {
   "cell_type": "markdown",
   "metadata": {},
   "source": [
    "## Exercício 1\n",
    "![alt text](ex1.png)"
   ]
  },
  {
   "cell_type": "code",
   "execution_count": null,
   "metadata": {},
   "outputs": [],
   "source": []
  },
  {
   "cell_type": "markdown",
   "metadata": {},
   "source": [
    "## Exercício 2\n",
    "![alt text](ex2.png)\n",
    "![alt text](ex2_2.png)"
   ]
  },
  {
   "cell_type": "code",
   "execution_count": null,
   "metadata": {},
   "outputs": [],
   "source": []
  },
  {
   "cell_type": "markdown",
   "metadata": {},
   "source": [
    "## Exercício 3\n",
    "![alt text](ex3.png)"
   ]
  },
  {
   "cell_type": "markdown",
   "metadata": {},
   "source": [
    "Tema ambiental escolhido: **Annual deforestation rate hectares per year**\n",
    "\n",
    "\\\n",
    "Data source: UN Food and Agriculture Organization (FAO). Forest Resources Assessment. – Learn more about this data"
   ]
  },
  {
   "cell_type": "code",
   "execution_count": 30,
   "metadata": {},
   "outputs": [
    {
     "data": {
      "text/html": [
       "<div>\n",
       "<style scoped>\n",
       "    .dataframe tbody tr th:only-of-type {\n",
       "        vertical-align: middle;\n",
       "    }\n",
       "\n",
       "    .dataframe tbody tr th {\n",
       "        vertical-align: top;\n",
       "    }\n",
       "\n",
       "    .dataframe thead th {\n",
       "        text-align: right;\n",
       "    }\n",
       "</style>\n",
       "<table border=\"1\" class=\"dataframe\">\n",
       "  <thead>\n",
       "    <tr style=\"text-align: right;\">\n",
       "      <th></th>\n",
       "      <th>Entity</th>\n",
       "      <th>Code</th>\n",
       "      <th>Year</th>\n",
       "      <th>Deforestation</th>\n",
       "    </tr>\n",
       "  </thead>\n",
       "  <tbody>\n",
       "    <tr>\n",
       "      <th>54</th>\n",
       "      <td>Brazil</td>\n",
       "      <td>BRA</td>\n",
       "      <td>1990</td>\n",
       "      <td>4254800.0</td>\n",
       "    </tr>\n",
       "    <tr>\n",
       "      <th>55</th>\n",
       "      <td>Brazil</td>\n",
       "      <td>BRA</td>\n",
       "      <td>2000</td>\n",
       "      <td>5129300.0</td>\n",
       "    </tr>\n",
       "    <tr>\n",
       "      <th>56</th>\n",
       "      <td>Brazil</td>\n",
       "      <td>BRA</td>\n",
       "      <td>2010</td>\n",
       "      <td>1867800.0</td>\n",
       "    </tr>\n",
       "    <tr>\n",
       "      <th>57</th>\n",
       "      <td>Brazil</td>\n",
       "      <td>BRA</td>\n",
       "      <td>2015</td>\n",
       "      <td>1695700.0</td>\n",
       "    </tr>\n",
       "    <tr>\n",
       "      <th>203</th>\n",
       "      <td>India</td>\n",
       "      <td>IND</td>\n",
       "      <td>1990</td>\n",
       "      <td>384000.0</td>\n",
       "    </tr>\n",
       "    <tr>\n",
       "      <th>204</th>\n",
       "      <td>India</td>\n",
       "      <td>IND</td>\n",
       "      <td>2000</td>\n",
       "      <td>629500.0</td>\n",
       "    </tr>\n",
       "    <tr>\n",
       "      <th>205</th>\n",
       "      <td>India</td>\n",
       "      <td>IND</td>\n",
       "      <td>2010</td>\n",
       "      <td>668400.0</td>\n",
       "    </tr>\n",
       "    <tr>\n",
       "      <th>206</th>\n",
       "      <td>India</td>\n",
       "      <td>IND</td>\n",
       "      <td>2015</td>\n",
       "      <td>668400.0</td>\n",
       "    </tr>\n",
       "    <tr>\n",
       "      <th>207</th>\n",
       "      <td>Indonesia</td>\n",
       "      <td>IDN</td>\n",
       "      <td>1990</td>\n",
       "      <td>2526000.0</td>\n",
       "    </tr>\n",
       "    <tr>\n",
       "      <th>208</th>\n",
       "      <td>Indonesia</td>\n",
       "      <td>IDN</td>\n",
       "      <td>2000</td>\n",
       "      <td>969000.0</td>\n",
       "    </tr>\n",
       "    <tr>\n",
       "      <th>209</th>\n",
       "      <td>Indonesia</td>\n",
       "      <td>IDN</td>\n",
       "      <td>2015</td>\n",
       "      <td>650000.0</td>\n",
       "    </tr>\n",
       "    <tr>\n",
       "      <th>302</th>\n",
       "      <td>Myanmar</td>\n",
       "      <td>MMR</td>\n",
       "      <td>1990</td>\n",
       "      <td>435000.0</td>\n",
       "    </tr>\n",
       "    <tr>\n",
       "      <th>303</th>\n",
       "      <td>Myanmar</td>\n",
       "      <td>MMR</td>\n",
       "      <td>2000</td>\n",
       "      <td>370150.0</td>\n",
       "    </tr>\n",
       "    <tr>\n",
       "      <th>304</th>\n",
       "      <td>Myanmar</td>\n",
       "      <td>MMR</td>\n",
       "      <td>2010</td>\n",
       "      <td>309870.0</td>\n",
       "    </tr>\n",
       "    <tr>\n",
       "      <th>305</th>\n",
       "      <td>Myanmar</td>\n",
       "      <td>MMR</td>\n",
       "      <td>2015</td>\n",
       "      <td>293920.0</td>\n",
       "    </tr>\n",
       "    <tr>\n",
       "      <th>354</th>\n",
       "      <td>Paraguay</td>\n",
       "      <td>PRY</td>\n",
       "      <td>1990</td>\n",
       "      <td>255420.0</td>\n",
       "    </tr>\n",
       "    <tr>\n",
       "      <th>355</th>\n",
       "      <td>Paraguay</td>\n",
       "      <td>PRY</td>\n",
       "      <td>2000</td>\n",
       "      <td>342140.0</td>\n",
       "    </tr>\n",
       "    <tr>\n",
       "      <th>356</th>\n",
       "      <td>Paraguay</td>\n",
       "      <td>PRY</td>\n",
       "      <td>2010</td>\n",
       "      <td>414250.0</td>\n",
       "    </tr>\n",
       "    <tr>\n",
       "      <th>357</th>\n",
       "      <td>Paraguay</td>\n",
       "      <td>PRY</td>\n",
       "      <td>2015</td>\n",
       "      <td>279340.0</td>\n",
       "    </tr>\n",
       "    <tr>\n",
       "      <th>431</th>\n",
       "      <td>Tanzania</td>\n",
       "      <td>TZA</td>\n",
       "      <td>1990</td>\n",
       "      <td>400000.0</td>\n",
       "    </tr>\n",
       "    <tr>\n",
       "      <th>432</th>\n",
       "      <td>Tanzania</td>\n",
       "      <td>TZA</td>\n",
       "      <td>2000</td>\n",
       "      <td>400000.0</td>\n",
       "    </tr>\n",
       "    <tr>\n",
       "      <th>433</th>\n",
       "      <td>Tanzania</td>\n",
       "      <td>TZA</td>\n",
       "      <td>2010</td>\n",
       "      <td>372000.0</td>\n",
       "    </tr>\n",
       "    <tr>\n",
       "      <th>434</th>\n",
       "      <td>Tanzania</td>\n",
       "      <td>TZA</td>\n",
       "      <td>2015</td>\n",
       "      <td>474000.0</td>\n",
       "    </tr>\n",
       "  </tbody>\n",
       "</table>\n",
       "</div>"
      ],
      "text/plain": [
       "        Entity Code  Year  Deforestation\n",
       "54      Brazil  BRA  1990      4254800.0\n",
       "55      Brazil  BRA  2000      5129300.0\n",
       "56      Brazil  BRA  2010      1867800.0\n",
       "57      Brazil  BRA  2015      1695700.0\n",
       "203      India  IND  1990       384000.0\n",
       "204      India  IND  2000       629500.0\n",
       "205      India  IND  2010       668400.0\n",
       "206      India  IND  2015       668400.0\n",
       "207  Indonesia  IDN  1990      2526000.0\n",
       "208  Indonesia  IDN  2000       969000.0\n",
       "209  Indonesia  IDN  2015       650000.0\n",
       "302    Myanmar  MMR  1990       435000.0\n",
       "303    Myanmar  MMR  2000       370150.0\n",
       "304    Myanmar  MMR  2010       309870.0\n",
       "305    Myanmar  MMR  2015       293920.0\n",
       "354   Paraguay  PRY  1990       255420.0\n",
       "355   Paraguay  PRY  2000       342140.0\n",
       "356   Paraguay  PRY  2010       414250.0\n",
       "357   Paraguay  PRY  2015       279340.0\n",
       "431   Tanzania  TZA  1990       400000.0\n",
       "432   Tanzania  TZA  2000       400000.0\n",
       "433   Tanzania  TZA  2010       372000.0\n",
       "434   Tanzania  TZA  2015       474000.0"
      ]
     },
     "metadata": {},
     "output_type": "display_data"
    }
   ],
   "source": [
    "import pandas as pd\n",
    "import numpy as np\n",
    "\n",
    "dados = pd.read_csv('annual-deforestation.csv')\n",
    "\n",
    "# Lista de países que você deseja filtrar\n",
    "paises_selecionados = ['India', 'Indonesia', 'Tanzania', 'Myanmar', 'Paraguay', 'Brazil']\n",
    "\n",
    "# Filtrar os dados\n",
    "dados_filtrados = dados[dados['Entity'].isin(paises_selecionados)]\n",
    "\n",
    "# Exibir os dados filtrados\n",
    "display(dados_filtrados) "
   ]
  },
  {
   "cell_type": "code",
   "execution_count": 31,
   "metadata": {},
   "outputs": [
    {
     "data": {
      "image/png": "[encoded data removed]",
      "text/plain": [
       "<Figure size 1000x600 with 1 Axes>"
      ]
     },
     "metadata": {},
     "output_type": "display_data"
    }
   ],
   "source": [
    "import pandas as pd\n",
    "import matplotlib.pyplot as plt\n",
    "import seaborn as sns\n",
    "import plotly.graph_objects as go\n",
    "import plotly.express as px\n",
    "import numpy as np\n",
    "\n",
    "# Ajustes de estilo\n",
    "sns.set_theme(style=\"darkgrid\")  # ou \"whitegrid\", \"dark\", etc.\n",
    "\n",
    "# Garantir ordenação por ano\n",
    "dados_filtrados = dados_filtrados.sort_values(by='Year')\n",
    "\n",
    "# Escala em milhoes hectares para visualização mais clara\n",
    "dados_filtrados['Desmatamento (milhões ha)'] = dados_filtrados['Deforestation'] / 1e6\n",
    "\n",
    "# Gráfico 1: Linha temporal múltipla\n",
    "plt.figure(figsize=(10, 6))\n",
    "for pais in paises_selecionados:\n",
    "    subset = dados_filtrados[dados_filtrados['Entity'] == pais]\n",
    "    plt.plot(subset['Year'], subset['Desmatamento (milhões ha)'], label=pais, linewidth=2)\n",
    "plt.title('Desmatamento Anual por País')\n",
    "plt.xlabel('Ano')\n",
    "plt.ylabel('Desmatamento (milhões ha)')\n",
    "plt.legend(title='País')\n",
    "plt.tight_layout()\n",
    "plt.show()\n",
    "\n"
   ]
  },
  {
   "cell_type": "code",
   "execution_count": 32,
   "metadata": {},
   "outputs": [
    {
     "data": {
      "image/png": "[encoded data removed]",
      "text/plain": [
       "<Figure size 800x600 with 1 Axes>"
      ]
     },
     "metadata": {},
     "output_type": "display_data"
    }
   ],
   "source": [
    "# Gráfico 2: Boxplot comparando distribuições por país\n",
    "plt.figure(figsize=(8, 6))\n",
    "sns.boxplot(data=dados_filtrados, x='Entity', y='Deforestation')\n",
    "plt.title('Distribuição do Desmatamento por País')\n",
    "plt.xlabel('País')\n",
    "plt.ylabel('Desmatamento (milhões ha)')\n",
    "plt.tight_layout()\n",
    "plt.show()"
   ]
  },
  {
   "cell_type": "code",
   "execution_count": 33,
   "metadata": {},
   "outputs": [
    {
     "data": {
      "application/vnd.plotly.v1+json": {
       "config": {
        "plotlyServerURL": "https://plot.ly"
       },
       "data": [
        {
         "line": {
          "color": "black",
          "dash": "dot",
          "width": 1
         },
         "mode": "lines",
         "name": "Conexão Geral",
         "showlegend": false,
         "type": "scatter",
         "x": [
          "India",
          "Indonesia",
          "Tanzania",
          "Myanmar",
          "Paraguay",
          "Brazil"
         ],
         "y": [
          384000,
          2526000,
          400000,
          435000,
          255420,
          4254800
         ]
        },
        {
         "marker": {
          "color": "rgb(228,26,28)",
          "size": 15
         },
         "mode": "markers",
         "name": "India",
         "showlegend": false,
         "type": "scatter",
         "x": [
          "India"
         ],
         "y": [
          384000
         ]
        },
        {
         "marker": {
          "color": "rgb(55,126,184)",
          "size": 15
         },
         "mode": "markers",
         "name": "Indonesia",
         "showlegend": false,
         "type": "scatter",
         "x": [
          "Indonesia"
         ],
         "y": [
          2526000
         ]
        },
        {
         "marker": {
          "color": "rgb(77,175,74)",
          "size": 15
         },
         "mode": "markers",
         "name": "Tanzania",
         "showlegend": false,
         "type": "scatter",
         "x": [
          "Tanzania"
         ],
         "y": [
          400000
         ]
        },
        {
         "marker": {
          "color": "rgb(152,78,163)",
          "size": 15
         },
         "mode": "markers",
         "name": "Myanmar",
         "showlegend": false,
         "type": "scatter",
         "x": [
          "Myanmar"
         ],
         "y": [
          435000
         ]
        },
        {
         "marker": {
          "color": "rgb(255,127,0)",
          "size": 15
         },
         "mode": "markers",
         "name": "Paraguay",
         "showlegend": false,
         "type": "scatter",
         "x": [
          "Paraguay"
         ],
         "y": [
          255420
         ]
        },
        {
         "marker": {
          "color": "rgb(255,255,51)",
          "size": 15
         },
         "mode": "markers",
         "name": "Brazil",
         "showlegend": false,
         "type": "scatter",
         "x": [
          "Brazil"
         ],
         "y": [
          4254800
         ]
        }
       ],
       "frames": [
        {
         "data": [
          {
           "line": {
            "color": "black",
            "dash": "dot",
            "width": 1
           },
           "mode": "lines",
           "showlegend": false,
           "type": "scatter",
           "x": [
            "India",
            "Indonesia",
            "Tanzania",
            "Myanmar",
            "Paraguay",
            "Brazil"
           ],
           "y": [
            384000,
            2526000,
            400000,
            435000,
            255420,
            4254800
           ]
          },
          {
           "marker": {
            "color": "rgb(228,26,28)",
            "size": 15
           },
           "mode": "markers",
           "showlegend": false,
           "type": "scatter",
           "x": [
            "India"
           ],
           "y": [
            384000
           ]
          },
          {
           "marker": {
            "color": "rgb(55,126,184)",
            "size": 15
           },
           "mode": "markers",
           "showlegend": false,
           "type": "scatter",
           "x": [
            "Indonesia"
           ],
           "y": [
            2526000
           ]
          },
          {
           "marker": {
            "color": "rgb(77,175,74)",
            "size": 15
           },
           "mode": "markers",
           "showlegend": false,
           "type": "scatter",
           "x": [
            "Tanzania"
           ],
           "y": [
            400000
           ]
          },
          {
           "marker": {
            "color": "rgb(152,78,163)",
            "size": 15
           },
           "mode": "markers",
           "showlegend": false,
           "type": "scatter",
           "x": [
            "Myanmar"
           ],
           "y": [
            435000
           ]
          },
          {
           "marker": {
            "color": "rgb(255,127,0)",
            "size": 15
           },
           "mode": "markers",
           "showlegend": false,
           "type": "scatter",
           "x": [
            "Paraguay"
           ],
           "y": [
            255420
           ]
          },
          {
           "marker": {
            "color": "rgb(255,255,51)",
            "size": 15
           },
           "mode": "markers",
           "showlegend": false,
           "type": "scatter",
           "x": [
            "Brazil"
           ],
           "y": [
            4254800
           ]
          }
         ],
         "layout": {
          "annotations": [
           {
            "align": "center",
            "bgcolor": "white",
            "bordercolor": "black",
            "borderpad": 4,
            "borderwidth": 2,
            "font": {
             "color": "black",
             "size": 24
            },
            "showarrow": false,
            "text": "Ano: 1990",
            "x": 0.95,
            "xref": "paper",
            "y": 0.95,
            "yref": "paper"
           }
          ]
         },
         "name": "1990"
        },
        {
         "data": [
          {
           "line": {
            "color": "black",
            "dash": "dot",
            "width": 1
           },
           "mode": "lines",
           "showlegend": false,
           "type": "scatter",
           "x": [
            "India",
            "Indonesia",
            "Tanzania",
            "Myanmar",
            "Paraguay",
            "Brazil"
           ],
           "y": [
            629500,
            969000,
            400000,
            370150,
            342140,
            5129300
           ]
          },
          {
           "marker": {
            "color": "rgb(228,26,28)",
            "size": 15
           },
           "mode": "markers",
           "showlegend": false,
           "type": "scatter",
           "x": [
            "India"
           ],
           "y": [
            629500
           ]
          },
          {
           "marker": {
            "color": "rgb(55,126,184)",
            "size": 15
           },
           "mode": "markers",
           "showlegend": false,
           "type": "scatter",
           "x": [
            "Indonesia"
           ],
           "y": [
            969000
           ]
          },
          {
           "marker": {
            "color": "rgb(77,175,74)",
            "size": 15
           },
           "mode": "markers",
           "showlegend": false,
           "type": "scatter",
           "x": [
            "Tanzania"
           ],
           "y": [
            400000
           ]
          },
          {
           "marker": {
            "color": "rgb(152,78,163)",
            "size": 15
           },
           "mode": "markers",
           "showlegend": false,
           "type": "scatter",
           "x": [
            "Myanmar"
           ],
           "y": [
            370150
           ]
          },
          {
           "marker": {
            "color": "rgb(255,127,0)",
            "size": 15
           },
           "mode": "markers",
           "showlegend": false,
           "type": "scatter",
           "x": [
            "Paraguay"
           ],
           "y": [
            342140
           ]
          },
          {
           "marker": {
            "color": "rgb(255,255,51)",
            "size": 15
           },
           "mode": "markers",
           "showlegend": false,
           "type": "scatter",
           "x": [
            "Brazil"
           ],
           "y": [
            5129300
           ]
          }
         ],
         "layout": {
          "annotations": [
           {
            "align": "center",
            "bgcolor": "white",
            "bordercolor": "black",
            "borderpad": 4,
            "borderwidth": 2,
            "font": {
             "color": "black",
             "size": 24
            },
            "showarrow": false,
            "text": "Ano: 2000",
            "x": 0.95,
            "xref": "paper",
            "y": 0.95,
            "yref": "paper"
           }
          ]
         },
         "name": "2000"
        },
        {
         "data": [
          {
           "line": {
            "color": "black",
            "dash": "dot",
            "width": 1
           },
           "mode": "lines",
           "showlegend": false,
           "type": "scatter",
           "x": [
            "India",
            "Indonesia",
            "Tanzania",
            "Myanmar",
            "Paraguay",
            "Brazil"
           ],
           "y": [
            668400,
            0,
            372000,
            309870,
            414250,
            1867800
           ]
          },
          {
           "marker": {
            "color": "rgb(228,26,28)",
            "size": 15
           },
           "mode": "markers",
           "showlegend": false,
           "type": "scatter",
           "x": [
            "India"
           ],
           "y": [
            668400
           ]
          },
          {
           "marker": {
            "color": "rgb(55,126,184)",
            "size": 15
           },
           "mode": "markers",
           "showlegend": false,
           "type": "scatter",
           "x": [
            "Indonesia"
           ],
           "y": [
            0
           ]
          },
          {
           "marker": {
            "color": "rgb(77,175,74)",
            "size": 15
           },
           "mode": "markers",
           "showlegend": false,
           "type": "scatter",
           "x": [
            "Tanzania"
           ],
           "y": [
            372000
           ]
          },
          {
           "marker": {
            "color": "rgb(152,78,163)",
            "size": 15
           },
           "mode": "markers",
           "showlegend": false,
           "type": "scatter",
           "x": [
            "Myanmar"
           ],
           "y": [
            309870
           ]
          },
          {
           "marker": {
            "color": "rgb(255,127,0)",
            "size": 15
           },
           "mode": "markers",
           "showlegend": false,
           "type": "scatter",
           "x": [
            "Paraguay"
           ],
           "y": [
            414250
           ]
          },
          {
           "marker": {
            "color": "rgb(255,255,51)",
            "size": 15
           },
           "mode": "markers",
           "showlegend": false,
           "type": "scatter",
           "x": [
            "Brazil"
           ],
           "y": [
            1867800
           ]
          }
         ],
         "layout": {
          "annotations": [
           {
            "align": "center",
            "bgcolor": "white",
            "bordercolor": "black",
            "borderpad": 4,
            "borderwidth": 2,
            "font": {
             "color": "black",
             "size": 24
            },
            "showarrow": false,
            "text": "Ano: 2010",
            "x": 0.95,
            "xref": "paper",
            "y": 0.95,
            "yref": "paper"
           }
          ]
         },
         "name": "2010"
        },
        {
         "data": [
          {
           "line": {
            "color": "black",
            "dash": "dot",
            "width": 1
           },
           "mode": "lines",
           "showlegend": false,
           "type": "scatter",
           "x": [
            "India",
            "Indonesia",
            "Tanzania",
            "Myanmar",
            "Paraguay",
            "Brazil"
           ],
           "y": [
            668400,
            650000,
            474000,
            293920,
            279340,
            1695700
           ]
          },
          {
           "marker": {
            "color": "rgb(228,26,28)",
            "size": 15
           },
           "mode": "markers",
           "showlegend": false,
           "type": "scatter",
           "x": [
            "India"
           ],
           "y": [
            668400
           ]
          },
          {
           "marker": {
            "color": "rgb(55,126,184)",
            "size": 15
           },
           "mode": "markers",
           "showlegend": false,
           "type": "scatter",
           "x": [
            "Indonesia"
           ],
           "y": [
            650000
           ]
          },
          {
           "marker": {
            "color": "rgb(77,175,74)",
            "size": 15
           },
           "mode": "markers",
           "showlegend": false,
           "type": "scatter",
           "x": [
            "Tanzania"
           ],
           "y": [
            474000
           ]
          },
          {
           "marker": {
            "color": "rgb(152,78,163)",
            "size": 15
           },
           "mode": "markers",
           "showlegend": false,
           "type": "scatter",
           "x": [
            "Myanmar"
           ],
           "y": [
            293920
           ]
          },
          {
           "marker": {
            "color": "rgb(255,127,0)",
            "size": 15
           },
           "mode": "markers",
           "showlegend": false,
           "type": "scatter",
           "x": [
            "Paraguay"
           ],
           "y": [
            279340
           ]
          },
          {
           "marker": {
            "color": "rgb(255,255,51)",
            "size": 15
           },
           "mode": "markers",
           "showlegend": false,
           "type": "scatter",
           "x": [
            "Brazil"
           ],
           "y": [
            1695700
           ]
          }
         ],
         "layout": {
          "annotations": [
           {
            "align": "center",
            "bgcolor": "white",
            "bordercolor": "black",
            "borderpad": 4,
            "borderwidth": 2,
            "font": {
             "color": "black",
             "size": 24
            },
            "showarrow": false,
            "text": "Ano: 2015",
            "x": 0.95,
            "xref": "paper",
            "y": 0.95,
            "yref": "paper"
           }
          ]
         },
         "name": "2015"
        }
       ],
       "layout": {
        "height": 500,
        "showlegend": false,
        "template": {
         "data": {
          "bar": [
           {
            "error_x": {
             "color": "#2a3f5f"
            },
            "error_y": {
             "color": "#2a3f5f"
            },
            "marker": {
             "line": {
              "color": "#E5ECF6",
              "width": 0.5
             },
             "pattern": {
              "fillmode": "overlay",
              "size": 10,
              "solidity": 0.2
             }
            },
            "type": "bar"
           }
          ],
          "barpolar": [
           {
            "marker": {
             "line": {
              "color": "#E5ECF6",
              "width": 0.5
             },
             "pattern": {
              "fillmode": "overlay",
              "size": 10,
              "solidity": 0.2
             }
            },
            "type": "barpolar"
           }
          ],
          "carpet": [
           {
            "aaxis": {
             "endlinecolor": "#2a3f5f",
             "gridcolor": "white",
             "linecolor": "white",
             "minorgridcolor": "white",
             "startlinecolor": "#2a3f5f"
            },
            "baxis": {
             "endlinecolor": "#2a3f5f",
             "gridcolor": "white",
             "linecolor": "white",
             "minorgridcolor": "white",
             "startlinecolor": "#2a3f5f"
            },
            "type": "carpet"
           }
          ],
          "choropleth": [
           {
            "colorbar": {
             "outlinewidth": 0,
             "ticks": ""
            },
            "type": "choropleth"
           }
          ],
          "contour": [
           {
            "colorbar": {
             "outlinewidth": 0,
             "ticks": ""
            },
            "colorscale": [
             [
              0,
              "#0d0887"
             ],
             [
              0.1111111111111111,
              "#46039f"
             ],
             [
              0.2222222222222222,
              "#7201a8"
             ],
             [
              0.3333333333333333,
              "#9c179e"
             ],
             [
              0.4444444444444444,
              "#bd3786"
             ],
             [
              0.5555555555555556,
              "#d8576b"
             ],
             [
              0.6666666666666666,
              "#ed7953"
             ],
             [
              0.7777777777777778,
              "#fb9f3a"
             ],
             [
              0.8888888888888888,
              "#fdca26"
             ],
             [
              1,
              "#f0f921"
             ]
            ],
            "type": "contour"
           }
          ],
          "contourcarpet": [
           {
            "colorbar": {
             "outlinewidth": 0,
             "ticks": ""
            },
            "type": "contourcarpet"
           }
          ],
          "heatmap": [
           {
            "colorbar": {
             "outlinewidth": 0,
             "ticks": ""
            },
            "colorscale": [
             [
              0,
              "#0d0887"
             ],
             [
              0.1111111111111111,
              "#46039f"
             ],
             [
              0.2222222222222222,
              "#7201a8"
             ],
             [
              0.3333333333333333,
              "#9c179e"
             ],
             [
              0.4444444444444444,
              "#bd3786"
             ],
             [
              0.5555555555555556,
              "#d8576b"
             ],
             [
              0.6666666666666666,
              "#ed7953"
             ],
             [
              0.7777777777777778,
              "#fb9f3a"
             ],
             [
              0.8888888888888888,
              "#fdca26"
             ],
             [
              1,
              "#f0f921"
             ]
            ],
            "type": "heatmap"
           }
          ],
          "histogram": [
           {
            "marker": {
             "pattern": {
              "fillmode": "overlay",
              "size": 10,
              "solidity": 0.2
             }
            },
            "type": "histogram"
           }
          ],
          "histogram2d": [
           {
            "colorbar": {
             "outlinewidth": 0,
             "ticks": ""
            },
            "colorscale": [
             [
              0,
              "#0d0887"
             ],
             [
              0.1111111111111111,
              "#46039f"
             ],
             [
              0.2222222222222222,
              "#7201a8"
             ],
             [
              0.3333333333333333,
              "#9c179e"
             ],
             [
              0.4444444444444444,
              "#bd3786"
             ],
             [
              0.5555555555555556,
              "#d8576b"
             ],
             [
              0.6666666666666666,
              "#ed7953"
             ],
             [
              0.7777777777777778,
              "#fb9f3a"
             ],
             [
              0.8888888888888888,
              "#fdca26"
             ],
             [
              1,
              "#f0f921"
             ]
            ],
            "type": "histogram2d"
           }
          ],
          "histogram2dcontour": [
           {
            "colorbar": {
             "outlinewidth": 0,
             "ticks": ""
            },
            "colorscale": [
             [
              0,
              "#0d0887"
             ],
             [
              0.1111111111111111,
              "#46039f"
             ],
             [
              0.2222222222222222,
              "#7201a8"
             ],
             [
              0.3333333333333333,
              "#9c179e"
             ],
             [
              0.4444444444444444,
              "#bd3786"
             ],
             [
              0.5555555555555556,
              "#d8576b"
             ],
             [
              0.6666666666666666,
              "#ed7953"
             ],
             [
              0.7777777777777778,
              "#fb9f3a"
             ],
             [
              0.8888888888888888,
              "#fdca26"
             ],
             [
              1,
              "#f0f921"
             ]
            ],
            "type": "histogram2dcontour"
           }
          ],
          "mesh3d": [
           {
            "colorbar": {
             "outlinewidth": 0,
             "ticks": ""
            },
            "type": "mesh3d"
           }
          ],
          "parcoords": [
           {
            "line": {
             "colorbar": {
              "outlinewidth": 0,
              "ticks": ""
             }
            },
            "type": "parcoords"
           }
          ],
          "pie": [
           {
            "automargin": true,
            "type": "pie"
           }
          ],
          "scatter": [
           {
            "fillpattern": {
             "fillmode": "overlay",
             "size": 10,
             "solidity": 0.2
            },
            "type": "scatter"
           }
          ],
          "scatter3d": [
           {
            "line": {
             "colorbar": {
              "outlinewidth": 0,
              "ticks": ""
             }
            },
            "marker": {
             "colorbar": {
              "outlinewidth": 0,
              "ticks": ""
             }
            },
            "type": "scatter3d"
           }
          ],
          "scattercarpet": [
           {
            "marker": {
             "colorbar": {
              "outlinewidth": 0,
              "ticks": ""
             }
            },
            "type": "scattercarpet"
           }
          ],
          "scattergeo": [
           {
            "marker": {
             "colorbar": {
              "outlinewidth": 0,
              "ticks": ""
             }
            },
            "type": "scattergeo"
           }
          ],
          "scattergl": [
           {
            "marker": {
             "colorbar": {
              "outlinewidth": 0,
              "ticks": ""
             }
            },
            "type": "scattergl"
           }
          ],
          "scattermap": [
           {
            "marker": {
             "colorbar": {
              "outlinewidth": 0,
              "ticks": ""
             }
            },
            "type": "scattermap"
           }
          ],
          "scattermapbox": [
           {
            "marker": {
             "colorbar": {
              "outlinewidth": 0,
              "ticks": ""
             }
            },
            "type": "scattermapbox"
           }
          ],
          "scatterpolar": [
           {
            "marker": {
             "colorbar": {
              "outlinewidth": 0,
              "ticks": ""
             }
            },
            "type": "scatterpolar"
           }
          ],
          "scatterpolargl": [
           {
            "marker": {
             "colorbar": {
              "outlinewidth": 0,
              "ticks": ""
             }
            },
            "type": "scatterpolargl"
           }
          ],
          "scatterternary": [
           {
            "marker": {
             "colorbar": {
              "outlinewidth": 0,
              "ticks": ""
             }
            },
            "type": "scatterternary"
           }
          ],
          "surface": [
           {
            "colorbar": {
             "outlinewidth": 0,
             "ticks": ""
            },
            "colorscale": [
             [
              0,
              "#0d0887"
             ],
             [
              0.1111111111111111,
              "#46039f"
             ],
             [
              0.2222222222222222,
              "#7201a8"
             ],
             [
              0.3333333333333333,
              "#9c179e"
             ],
             [
              0.4444444444444444,
              "#bd3786"
             ],
             [
              0.5555555555555556,
              "#d8576b"
             ],
             [
              0.6666666666666666,
              "#ed7953"
             ],
             [
              0.7777777777777778,
              "#fb9f3a"
             ],
             [
              0.8888888888888888,
              "#fdca26"
             ],
             [
              1,
              "#f0f921"
             ]
            ],
            "type": "surface"
           }
          ],
          "table": [
           {
            "cells": {
             "fill": {
              "color": "#EBF0F8"
             },
             "line": {
              "color": "white"
             }
            },
            "header": {
             "fill": {
              "color": "#C8D4E3"
             },
             "line": {
              "color": "white"
             }
            },
            "type": "table"
           }
          ]
         },
         "layout": {
          "annotationdefaults": {
           "arrowcolor": "#2a3f5f",
           "arrowhead": 0,
           "arrowwidth": 1
          },
          "autotypenumbers": "strict",
          "coloraxis": {
           "colorbar": {
            "outlinewidth": 0,
            "ticks": ""
           }
          },
          "colorscale": {
           "diverging": [
            [
             0,
             "#8e0152"
            ],
            [
             0.1,
             "#c51b7d"
            ],
            [
             0.2,
             "#de77ae"
            ],
            [
             0.3,
             "#f1b6da"
            ],
            [
             0.4,
             "#fde0ef"
            ],
            [
             0.5,
             "#f7f7f7"
            ],
            [
             0.6,
             "#e6f5d0"
            ],
            [
             0.7,
             "#b8e186"
            ],
            [
             0.8,
             "#7fbc41"
            ],
            [
             0.9,
             "#4d9221"
            ],
            [
             1,
             "#276419"
            ]
           ],
           "sequential": [
            [
             0,
             "#0d0887"
            ],
            [
             0.1111111111111111,
             "#46039f"
            ],
            [
             0.2222222222222222,
             "#7201a8"
            ],
            [
             0.3333333333333333,
             "#9c179e"
            ],
            [
             0.4444444444444444,
             "#bd3786"
            ],
            [
             0.5555555555555556,
             "#d8576b"
            ],
            [
             0.6666666666666666,
             "#ed7953"
            ],
            [
             0.7777777777777778,
             "#fb9f3a"
            ],
            [
             0.8888888888888888,
             "#fdca26"
            ],
            [
             1,
             "#f0f921"
            ]
           ],
           "sequentialminus": [
            [
             0,
             "#0d0887"
            ],
            [
             0.1111111111111111,
             "#46039f"
            ],
            [
             0.2222222222222222,
             "#7201a8"
            ],
            [
             0.3333333333333333,
             "#9c179e"
            ],
            [
             0.4444444444444444,
             "#bd3786"
            ],
            [
             0.5555555555555556,
             "#d8576b"
            ],
            [
             0.6666666666666666,
             "#ed7953"
            ],
            [
             0.7777777777777778,
             "#fb9f3a"
            ],
            [
             0.8888888888888888,
             "#fdca26"
            ],
            [
             1,
             "#f0f921"
            ]
           ]
          },
          "colorway": [
           "#636efa",
           "#EF553B",
           "#00cc96",
           "#ab63fa",
           "#FFA15A",
           "#19d3f3",
           "#FF6692",
           "#B6E880",
           "#FF97FF",
           "#FECB52"
          ],
          "font": {
           "color": "#2a3f5f"
          },
          "geo": {
           "bgcolor": "white",
           "lakecolor": "white",
           "landcolor": "#E5ECF6",
           "showlakes": true,
           "showland": true,
           "subunitcolor": "white"
          },
          "hoverlabel": {
           "align": "left"
          },
          "hovermode": "closest",
          "mapbox": {
           "style": "light"
          },
          "paper_bgcolor": "white",
          "plot_bgcolor": "#E5ECF6",
          "polar": {
           "angularaxis": {
            "gridcolor": "white",
            "linecolor": "white",
            "ticks": ""
           },
           "bgcolor": "#E5ECF6",
           "radialaxis": {
            "gridcolor": "white",
            "linecolor": "white",
            "ticks": ""
           }
          },
          "scene": {
           "xaxis": {
            "backgroundcolor": "#E5ECF6",
            "gridcolor": "white",
            "gridwidth": 2,
            "linecolor": "white",
            "showbackground": true,
            "ticks": "",
            "zerolinecolor": "white"
           },
           "yaxis": {
            "backgroundcolor": "#E5ECF6",
            "gridcolor": "white",
            "gridwidth": 2,
            "linecolor": "white",
            "showbackground": true,
            "ticks": "",
            "zerolinecolor": "white"
           },
           "zaxis": {
            "backgroundcolor": "#E5ECF6",
            "gridcolor": "white",
            "gridwidth": 2,
            "linecolor": "white",
            "showbackground": true,
            "ticks": "",
            "zerolinecolor": "white"
           }
          },
          "shapedefaults": {
           "line": {
            "color": "#2a3f5f"
           }
          },
          "ternary": {
           "aaxis": {
            "gridcolor": "white",
            "linecolor": "white",
            "ticks": ""
           },
           "baxis": {
            "gridcolor": "white",
            "linecolor": "white",
            "ticks": ""
           },
           "bgcolor": "#E5ECF6",
           "caxis": {
            "gridcolor": "white",
            "linecolor": "white",
            "ticks": ""
           }
          },
          "title": {
           "x": 0.05
          },
          "xaxis": {
           "automargin": true,
           "gridcolor": "white",
           "linecolor": "white",
           "ticks": "",
           "title": {
            "standoff": 15
           },
           "zerolinecolor": "white",
           "zerolinewidth": 2
          },
          "yaxis": {
           "automargin": true,
           "gridcolor": "white",
           "linecolor": "white",
           "ticks": "",
           "title": {
            "standoff": 15
           },
           "zerolinecolor": "white",
           "zerolinewidth": 2
          }
         }
        },
        "title": {
         "text": "Desmatamento por País - Animação Interativa"
        },
        "updatemenus": [
         {
          "buttons": [
           {
            "args": [
             null,
             {
              "frame": {
               "duration": 900,
               "redraw": true
              },
              "fromcurrent": true,
              "transition": {
               "duration": 100
              }
             }
            ],
            "label": "Play",
            "method": "animate"
           },
           {
            "args": [
             [
              null
             ],
             {
              "frame": {
               "duration": 0,
               "redraw": false
              },
              "mode": "immediate",
              "transition": {
               "duration": 0
              }
             }
            ],
            "label": "Pause",
            "method": "animate"
           }
          ],
          "direction": "left",
          "showactive": false,
          "type": "buttons",
          "x": 1.05,
          "xanchor": "right",
          "y": 1.15,
          "yanchor": "top"
         }
        ],
        "xaxis": {
         "categoryarray": [
          "India",
          "Indonesia",
          "Tanzania",
          "Myanmar",
          "Paraguay",
          "Brazil"
         ],
         "categoryorder": "array",
         "title": {
          "text": "País"
         }
        },
        "yaxis": {
         "range": [
          0,
          7000000
         ],
         "title": {
          "text": "Desmatamento (milhões ha)"
         }
        }
       }
      }
     },
     "metadata": {},
     "output_type": "display_data"
    }
   ],
   "source": [
    "import plotly.graph_objects as go\n",
    "\n",
    "fig = go.Figure()\n",
    "\n",
    "paises_ordenados = paises_selecionados\n",
    "anos = sorted(dados_filtrados['Year'].unique())\n",
    "\n",
    "cores_paises = {\n",
    "    pais: cor for pais, cor in zip(paises_ordenados, px.colors.qualitative.Set1)\n",
    "}\n",
    "\n",
    "# Trace inicial (ano 0)\n",
    "df_ano0 = dados_filtrados[dados_filtrados['Year'] == anos[0]]\n",
    "y_ano0 = [df_ano0[df_ano0['Entity'] == pais]['Deforestation'].values[0] if not df_ano0[df_ano0['Entity'] == pais].empty else 0 for pais in paises_ordenados]\n",
    "\n",
    "fig.add_trace(go.Scatter(\n",
    "    x=paises_ordenados,\n",
    "    y=y_ano0,\n",
    "    mode='lines',\n",
    "    line=dict(color='black', width=1, dash='dot'),\n",
    "    name='Conexão Geral',\n",
    "    showlegend=False\n",
    "))\n",
    "\n",
    "for pais in paises_ordenados:\n",
    "    y_val = df_ano0[df_ano0['Entity'] == pais]['Deforestation'].values\n",
    "    y_val = y_val[0] if len(y_val) > 0 else 0\n",
    "    fig.add_trace(go.Scatter(\n",
    "        x=[pais],\n",
    "        y=[y_val],\n",
    "        mode='markers',\n",
    "        marker=dict(size=15, color=cores_paises[pais]),\n",
    "        name=pais,\n",
    "        showlegend=False\n",
    "    ))\n",
    "\n",
    "frames = []\n",
    "for ano in anos:\n",
    "    df_ano = dados_filtrados[dados_filtrados['Year'] == ano]\n",
    "    y_ano = [df_ano[df_ano['Entity'] == pais]['Deforestation'].values[0] if not df_ano[df_ano['Entity'] == pais].empty else 0 for pais in paises_ordenados]\n",
    "\n",
    "    data = []\n",
    "    data.append(go.Scatter(\n",
    "        x=paises_ordenados,\n",
    "        y=y_ano,\n",
    "        mode='lines',\n",
    "        line=dict(color='black', width=1, dash='dot'),\n",
    "        showlegend=False\n",
    "    ))\n",
    "\n",
    "    for pais in paises_ordenados:\n",
    "        y_val = df_ano[df_ano['Entity'] == pais]['Deforestation'].values\n",
    "        y_val = y_val[0] if len(y_val) > 0 else 0\n",
    "        data.append(go.Scatter(\n",
    "            x=[pais],\n",
    "            y=[y_val],\n",
    "            mode='markers',\n",
    "            marker=dict(size=15, color=cores_paises[pais]),\n",
    "            showlegend=False\n",
    "        ))\n",
    "\n",
    "    frames.append(go.Frame(data=data, name=str(ano),\n",
    "                           layout=go.Layout(\n",
    "                               annotations=[dict(\n",
    "                                   text=f\"Ano: {ano}\",\n",
    "                                   x=0.95,\n",
    "                                   y=0.95,\n",
    "                                   xref=\"paper\",\n",
    "                                   yref=\"paper\",\n",
    "                                   showarrow=False,\n",
    "                                   font=dict(size=24, color=\"black\"),\n",
    "                                   bgcolor=\"white\",\n",
    "                                   bordercolor=\"black\",\n",
    "                                   borderwidth=2,\n",
    "                                   borderpad=4,\n",
    "                                   align=\"center\"\n",
    "                               )]\n",
    "                           )))\n",
    "\n",
    "updatemenus = [dict(\n",
    "    type=\"buttons\",\n",
    "    showactive=False,\n",
    "    y=1.15,\n",
    "    x=1.05,\n",
    "    xanchor=\"right\",\n",
    "    yanchor=\"top\",\n",
    "    direction=\"left\",\n",
    "    buttons=[\n",
    "        dict(label=\"Play\",\n",
    "             method=\"animate\",\n",
    "             args=[None, {\"frame\": {\"duration\": 900, \"redraw\": True}, \"fromcurrent\": True, \"transition\": {\"duration\": 100}}]),\n",
    "        dict(label=\"Pause\",\n",
    "             method=\"animate\",\n",
    "             args=[[None], {\"frame\": {\"duration\": 0, \"redraw\": False}, \"mode\": \"immediate\", \"transition\": {\"duration\": 0}}])\n",
    "    ]\n",
    ")]\n",
    "\n",
    "fig.update_layout(\n",
    "    title=\"Desmatamento por País - Animação Interativa\",\n",
    "    xaxis=dict(\n",
    "        title=\"País\",\n",
    "        categoryorder='array',\n",
    "        categoryarray=paises_ordenados\n",
    "    ),\n",
    "    yaxis=dict(\n",
    "        title=\"Desmatamento (milhões ha)\",\n",
    "        range=[0, 7_000_000]\n",
    "    ),\n",
    "    sliders=[],  # remove slider\n",
    "    updatemenus=updatemenus,\n",
    "    height=500,\n",
    "    showlegend=False  # remove legenda\n",
    ")\n",
    "\n",
    "fig.frames = frames\n",
    "fig.show()\n"
   ]
  },
  {
   "cell_type": "code",
   "execution_count": 34,
   "metadata": {},
   "outputs": [
    {
     "data": {
      "text/plain": [
       "<Figure size 1000x600 with 0 Axes>"
      ]
     },
     "metadata": {},
     "output_type": "display_data"
    },
    {
     "data": {
      "image/png": "[encoded data removed]",
      "text/plain": [
       "<Figure size 1000x600 with 1 Axes>"
      ]
     },
     "metadata": {},
     "output_type": "display_data"
    }
   ],
   "source": [
    "# Gráfico 4: Área empilhada\n",
    "plt.figure(figsize=(10, 6))\n",
    "dados_area = dados_filtrados.pivot(index='Year', columns='Entity', values='Deforestation')\n",
    "dados_area.fillna(0, inplace=True)\n",
    "dados_area.plot.area(stacked=True, figsize=(10, 6), cmap='Set2')\n",
    "plt.title('Desmatamento - Área Empilhada')\n",
    "plt.xlabel('Ano')\n",
    "plt.ylabel('Desmatamento (milhões ha)')\n",
    "plt.legend(title='País', loc='upper left')\n",
    "plt.tight_layout()\n",
    "plt.show()"
   ]
  },
  {
   "cell_type": "code",
   "execution_count": null,
   "metadata": {},
   "outputs": [
    {
     "data": {
      "application/vnd.plotly.v1+json": {
       "config": {
        "plotlyServerURL": "https://plot.ly"
       },
       "data": [
        {
         "coloraxis": "coloraxis",
         "geo": "geo",
         "hovertemplate": "<b>%{hovertext}</b><br><br>Code=%{location}<br>Desmatamento (milhões ha)=%{z}<extra></extra>",
         "hovertext": [
          "Brazil",
          "India",
          "Indonesia",
          "Myanmar",
          "Paraguay",
          "Tanzania"
         ],
         "locations": [
          "BRA",
          "IND",
          "IDN",
          "MMR",
          "PRY",
          "TZA"
         ],
         "name": "",
         "type": "choropleth",
         "z": {
          "bdata": "TRWMSuoEEUD6fmq8dJPYP2iR7Xw/NQRA16NwPQrX2z/woq8gzVjQP5qZmZmZmdk/",
          "dtype": "f8"
         }
        }
       ],
       "layout": {
        "coloraxis": {
         "cmax": 5,
         "cmin": 0,
         "colorbar": {
          "title": {
           "text": "Desmatamento (milhões ha)"
          }
         },
         "colorscale": [
          [
           0,
           "rgb(255,255,204)"
          ],
          [
           0.125,
           "rgb(255,237,160)"
          ],
          [
           0.25,
           "rgb(254,217,118)"
          ],
          [
           0.375,
           "rgb(254,178,76)"
          ],
          [
           0.5,
           "rgb(253,141,60)"
          ],
          [
           0.625,
           "rgb(252,78,42)"
          ],
          [
           0.75,
           "rgb(227,26,28)"
          ],
          [
           0.875,
           "rgb(189,0,38)"
          ],
          [
           1,
           "rgb(128,0,38)"
          ]
         ]
        },
        "geo": {
         "center": {},
         "domain": {
          "x": [
           0,
           1
          ],
          "y": [
           0,
           1
          ]
         }
        },
        "height": 500,
        "legend": {
         "tracegroupgap": 0
        },
        "template": {
         "data": {
          "bar": [
           {
            "error_x": {
             "color": "#2a3f5f"
            },
            "error_y": {
             "color": "#2a3f5f"
            },
            "marker": {
             "line": {
              "color": "#E5ECF6",
              "width": 0.5
             },
             "pattern": {
              "fillmode": "overlay",
              "size": 10,
              "solidity": 0.2
             }
            },
            "type": "bar"
           }
          ],
          "barpolar": [
           {
            "marker": {
             "line": {
              "color": "#E5ECF6",
              "width": 0.5
             },
             "pattern": {
              "fillmode": "overlay",
              "size": 10,
              "solidity": 0.2
             }
            },
            "type": "barpolar"
           }
          ],
          "carpet": [
           {
            "aaxis": {
             "endlinecolor": "#2a3f5f",
             "gridcolor": "white",
             "linecolor": "white",
             "minorgridcolor": "white",
             "startlinecolor": "#2a3f5f"
            },
            "baxis": {
             "endlinecolor": "#2a3f5f",
             "gridcolor": "white",
             "linecolor": "white",
             "minorgridcolor": "white",
             "startlinecolor": "#2a3f5f"
            },
            "type": "carpet"
           }
          ],
          "choropleth": [
           {
            "colorbar": {
             "outlinewidth": 0,
             "ticks": ""
            },
            "type": "choropleth"
           }
          ],
          "contour": [
           {
            "colorbar": {
             "outlinewidth": 0,
             "ticks": ""
            },
            "colorscale": [
             [
              0,
              "#0d0887"
             ],
             [
              0.1111111111111111,
              "#46039f"
             ],
             [
              0.2222222222222222,
              "#7201a8"
             ],
             [
              0.3333333333333333,
              "#9c179e"
             ],
             [
              0.4444444444444444,
              "#bd3786"
             ],
             [
              0.5555555555555556,
              "#d8576b"
             ],
             [
              0.6666666666666666,
              "#ed7953"
             ],
             [
              0.7777777777777778,
              "#fb9f3a"
             ],
             [
              0.8888888888888888,
              "#fdca26"
             ],
             [
              1,
              "#f0f921"
             ]
            ],
            "type": "contour"
           }
          ],
          "contourcarpet": [
           {
            "colorbar": {
             "outlinewidth": 0,
             "ticks": ""
            },
            "type": "contourcarpet"
           }
          ],
          "heatmap": [
           {
            "colorbar": {
             "outlinewidth": 0,
             "ticks": ""
            },
            "colorscale": [
             [
              0,
              "#0d0887"
             ],
             [
              0.1111111111111111,
              "#46039f"
             ],
             [
              0.2222222222222222,
              "#7201a8"
             ],
             [
              0.3333333333333333,
              "#9c179e"
             ],
             [
              0.4444444444444444,
              "#bd3786"
             ],
             [
              0.5555555555555556,
              "#d8576b"
             ],
             [
              0.6666666666666666,
              "#ed7953"
             ],
             [
              0.7777777777777778,
              "#fb9f3a"
             ],
             [
              0.8888888888888888,
              "#fdca26"
             ],
             [
              1,
              "#f0f921"
             ]
            ],
            "type": "heatmap"
           }
          ],
          "histogram": [
           {
            "marker": {
             "pattern": {
              "fillmode": "overlay",
              "size": 10,
              "solidity": 0.2
             }
            },
            "type": "histogram"
           }
          ],
          "histogram2d": [
           {
            "colorbar": {
             "outlinewidth": 0,
             "ticks": ""
            },
            "colorscale": [
             [
              0,
              "#0d0887"
             ],
             [
              0.1111111111111111,
              "#46039f"
             ],
             [
              0.2222222222222222,
              "#7201a8"
             ],
             [
              0.3333333333333333,
              "#9c179e"
             ],
             [
              0.4444444444444444,
              "#bd3786"
             ],
             [
              0.5555555555555556,
              "#d8576b"
             ],
             [
              0.6666666666666666,
              "#ed7953"
             ],
             [
              0.7777777777777778,
              "#fb9f3a"
             ],
             [
              0.8888888888888888,
              "#fdca26"
             ],
             [
              1,
              "#f0f921"
             ]
            ],
            "type": "histogram2d"
           }
          ],
          "histogram2dcontour": [
           {
            "colorbar": {
             "outlinewidth": 0,
             "ticks": ""
            },
            "colorscale": [
             [
              0,
              "#0d0887"
             ],
             [
              0.1111111111111111,
              "#46039f"
             ],
             [
              0.2222222222222222,
              "#7201a8"
             ],
             [
              0.3333333333333333,
              "#9c179e"
             ],
             [
              0.4444444444444444,
              "#bd3786"
             ],
             [
              0.5555555555555556,
              "#d8576b"
             ],
             [
              0.6666666666666666,
              "#ed7953"
             ],
             [
              0.7777777777777778,
              "#fb9f3a"
             ],
             [
              0.8888888888888888,
              "#fdca26"
             ],
             [
              1,
              "#f0f921"
             ]
            ],
            "type": "histogram2dcontour"
           }
          ],
          "mesh3d": [
           {
            "colorbar": {
             "outlinewidth": 0,
             "ticks": ""
            },
            "type": "mesh3d"
           }
          ],
          "parcoords": [
           {
            "line": {
             "colorbar": {
              "outlinewidth": 0,
              "ticks": ""
             }
            },
            "type": "parcoords"
           }
          ],
          "pie": [
           {
            "automargin": true,
            "type": "pie"
           }
          ],
          "scatter": [
           {
            "fillpattern": {
             "fillmode": "overlay",
             "size": 10,
             "solidity": 0.2
            },
            "type": "scatter"
           }
          ],
          "scatter3d": [
           {
            "line": {
             "colorbar": {
              "outlinewidth": 0,
              "ticks": ""
             }
            },
            "marker": {
             "colorbar": {
              "outlinewidth": 0,
              "ticks": ""
             }
            },
            "type": "scatter3d"
           }
          ],
          "scattercarpet": [
           {
            "marker": {
             "colorbar": {
              "outlinewidth": 0,
              "ticks": ""
             }
            },
            "type": "scattercarpet"
           }
          ],
          "scattergeo": [
           {
            "marker": {
             "colorbar": {
              "outlinewidth": 0,
              "ticks": ""
             }
            },
            "type": "scattergeo"
           }
          ],
          "scattergl": [
           {
            "marker": {
             "colorbar": {
              "outlinewidth": 0,
              "ticks": ""
             }
            },
            "type": "scattergl"
           }
          ],
          "scattermap": [
           {
            "marker": {
             "colorbar": {
              "outlinewidth": 0,
              "ticks": ""
             }
            },
            "type": "scattermap"
           }
          ],
          "scattermapbox": [
           {
            "marker": {
             "colorbar": {
              "outlinewidth": 0,
              "ticks": ""
             }
            },
            "type": "scattermapbox"
           }
          ],
          "scatterpolar": [
           {
            "marker": {
             "colorbar": {
              "outlinewidth": 0,
              "ticks": ""
             }
            },
            "type": "scatterpolar"
           }
          ],
          "scatterpolargl": [
           {
            "marker": {
             "colorbar": {
              "outlinewidth": 0,
              "ticks": ""
             }
            },
            "type": "scatterpolargl"
           }
          ],
          "scatterternary": [
           {
            "marker": {
             "colorbar": {
              "outlinewidth": 0,
              "ticks": ""
             }
            },
            "type": "scatterternary"
           }
          ],
          "surface": [
           {
            "colorbar": {
             "outlinewidth": 0,
             "ticks": ""
            },
            "colorscale": [
             [
              0,
              "#0d0887"
             ],
             [
              0.1111111111111111,
              "#46039f"
             ],
             [
              0.2222222222222222,
              "#7201a8"
             ],
             [
              0.3333333333333333,
              "#9c179e"
             ],
             [
              0.4444444444444444,
              "#bd3786"
             ],
             [
              0.5555555555555556,
              "#d8576b"
             ],
             [
              0.6666666666666666,
              "#ed7953"
             ],
             [
              0.7777777777777778,
              "#fb9f3a"
             ],
             [
              0.8888888888888888,
              "#fdca26"
             ],
             [
              1,
              "#f0f921"
             ]
            ],
            "type": "surface"
           }
          ],
          "table": [
           {
            "cells": {
             "fill": {
              "color": "#EBF0F8"
             },
             "line": {
              "color": "white"
             }
            },
            "header": {
             "fill": {
              "color": "#C8D4E3"
             },
             "line": {
              "color": "white"
             }
            },
            "type": "table"
           }
          ]
         },
         "layout": {
          "annotationdefaults": {
           "arrowcolor": "#2a3f5f",
           "arrowhead": 0,
           "arrowwidth": 1
          },
          "autotypenumbers": "strict",
          "coloraxis": {
           "colorbar": {
            "outlinewidth": 0,
            "ticks": ""
           }
          },
          "colorscale": {
           "diverging": [
            [
             0,
             "#8e0152"
            ],
            [
             0.1,
             "#c51b7d"
            ],
            [
             0.2,
             "#de77ae"
            ],
            [
             0.3,
             "#f1b6da"
            ],
            [
             0.4,
             "#fde0ef"
            ],
            [
             0.5,
             "#f7f7f7"
            ],
            [
             0.6,
             "#e6f5d0"
            ],
            [
             0.7,
             "#b8e186"
            ],
            [
             0.8,
             "#7fbc41"
            ],
            [
             0.9,
             "#4d9221"
            ],
            [
             1,
             "#276419"
            ]
           ],
           "sequential": [
            [
             0,
             "#0d0887"
            ],
            [
             0.1111111111111111,
             "#46039f"
            ],
            [
             0.2222222222222222,
             "#7201a8"
            ],
            [
             0.3333333333333333,
             "#9c179e"
            ],
            [
             0.4444444444444444,
             "#bd3786"
            ],
            [
             0.5555555555555556,
             "#d8576b"
            ],
            [
             0.6666666666666666,
             "#ed7953"
            ],
            [
             0.7777777777777778,
             "#fb9f3a"
            ],
            [
             0.8888888888888888,
             "#fdca26"
            ],
            [
             1,
             "#f0f921"
            ]
           ],
           "sequentialminus": [
            [
             0,
             "#0d0887"
            ],
            [
             0.1111111111111111,
             "#46039f"
            ],
            [
             0.2222222222222222,
             "#7201a8"
            ],
            [
             0.3333333333333333,
             "#9c179e"
            ],
            [
             0.4444444444444444,
             "#bd3786"
            ],
            [
             0.5555555555555556,
             "#d8576b"
            ],
            [
             0.6666666666666666,
             "#ed7953"
            ],
            [
             0.7777777777777778,
             "#fb9f3a"
            ],
            [
             0.8888888888888888,
             "#fdca26"
            ],
            [
             1,
             "#f0f921"
            ]
           ]
          },
          "colorway": [
           "#636efa",
           "#EF553B",
           "#00cc96",
           "#ab63fa",
           "#FFA15A",
           "#19d3f3",
           "#FF6692",
           "#B6E880",
           "#FF97FF",
           "#FECB52"
          ],
          "font": {
           "color": "#2a3f5f"
          },
          "geo": {
           "bgcolor": "white",
           "lakecolor": "white",
           "landcolor": "#E5ECF6",
           "showlakes": true,
           "showland": true,
           "subunitcolor": "white"
          },
          "hoverlabel": {
           "align": "left"
          },
          "hovermode": "closest",
          "mapbox": {
           "style": "light"
          },
          "paper_bgcolor": "white",
          "plot_bgcolor": "#E5ECF6",
          "polar": {
           "angularaxis": {
            "gridcolor": "white",
            "linecolor": "white",
            "ticks": ""
           },
           "bgcolor": "#E5ECF6",
           "radialaxis": {
            "gridcolor": "white",
            "linecolor": "white",
            "ticks": ""
           }
          },
          "scene": {
           "xaxis": {
            "backgroundcolor": "#E5ECF6",
            "gridcolor": "white",
            "gridwidth": 2,
            "linecolor": "white",
            "showbackground": true,
            "ticks": "",
            "zerolinecolor": "white"
           },
           "yaxis": {
            "backgroundcolor": "#E5ECF6",
            "gridcolor": "white",
            "gridwidth": 2,
            "linecolor": "white",
            "showbackground": true,
            "ticks": "",
            "zerolinecolor": "white"
           },
           "zaxis": {
            "backgroundcolor": "#E5ECF6",
            "gridcolor": "white",
            "gridwidth": 2,
            "linecolor": "white",
            "showbackground": true,
            "ticks": "",
            "zerolinecolor": "white"
           }
          },
          "shapedefaults": {
           "line": {
            "color": "#2a3f5f"
           }
          },
          "ternary": {
           "aaxis": {
            "gridcolor": "white",
            "linecolor": "white",
            "ticks": ""
           },
           "baxis": {
            "gridcolor": "white",
            "linecolor": "white",
            "ticks": ""
           },
           "bgcolor": "#E5ECF6",
           "caxis": {
            "gridcolor": "white",
            "linecolor": "white",
            "ticks": ""
           }
          },
          "title": {
           "x": 0.05
          },
          "xaxis": {
           "automargin": true,
           "gridcolor": "white",
           "linecolor": "white",
           "ticks": "",
           "title": {
            "standoff": 15
           },
           "zerolinecolor": "white",
           "zerolinewidth": 2
          },
          "yaxis": {
           "automargin": true,
           "gridcolor": "white",
           "linecolor": "white",
           "ticks": "",
           "title": {
            "standoff": 15
           },
           "zerolinecolor": "white",
           "zerolinewidth": 2
          }
         }
        },
        "title": {
         "text": "Desmatamento em 1990 (milhões de hectares)"
        }
       }
      }
     },
     "metadata": {},
     "output_type": "display_data"
    }
   ],
   "source": [
    "#Gráfico 5 - Mapa de cor para um ano específico\n",
    "\n",
    "ano_especifico = 1990\n",
    "\n",
    "# Filtra os dados para o ano específico e apenas os países selecionados\n",
    "dados_ano = dados[\n",
    "    (dados['Year'] == ano_especifico) & \n",
    "    (dados['Entity'].isin(paises_selecionados))\n",
    "].copy()\n",
    "\n",
    "# Cria a coluna de desmatamento em milhões de hectares\n",
    "dados_ano['Desmatamento (milhões ha)'] = dados_ano['Deforestation'] / 1e6\n",
    "\n",
    "# Gera o mapa coroplético\n",
    "fig = px.choropleth(\n",
    "    dados_ano,\n",
    "    locations='Code',  # Deve conter os códigos ISO dos países\n",
    "    color='Desmatamento (milhões ha)',\n",
    "    hover_name='Entity',\n",
    "    color_continuous_scale='YlOrRd',\n",
    "    range_color=[0, 5],  # Limita de 0 até 5 milhões ha\n",
    "    title=f'Desmatamento em {ano_especifico} (milhões de hectares)'\n",
    ")\n",
    "\n",
    "fig.update_layout(height=500)\n",
    "fig.show()\n"
   ]
  }
 ],
 "metadata": {
  "kernelspec": {
   "display_name": "Python 3",
   "language": "python",
   "name": "python3"
  },
  "language_info": {
   "codemirror_mode": {
    "name": "ipython",
    "version": 3
   },
   "file_extension": ".py",
   "mimetype": "text/x-python",
   "name": "python",
   "nbconvert_exporter": "python",
   "pygments_lexer": "ipython3",
   "version": "3.12.5"
  }
 },
 "nbformat": 4,
 "nbformat_minor": 2
}
